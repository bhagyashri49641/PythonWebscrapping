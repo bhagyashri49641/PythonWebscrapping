{
 "cells": [
  {
   "cell_type": "code",
   "execution_count": 1,
   "id": "c25bf86d-3d83-46f4-8191-8a01544a3070",
   "metadata": {},
   "outputs": [
    {
     "data": {
      "text/plain": [
       "'\\nExtracting Data from JSON\\n\\nIn this assignment you will write a Python program somewhat similar to http://www.py4e.com/code3/json2.py. The program will prompt for a URL, read the JSON data from that URL using urllib and then parse and extract the comment counts from the JSON data, compute the sum of the numbers in the file and enter the sum below:\\n\\nWe provide two files for this assignment. One is a sample file where we give you the sum for your testing and the other is the actual data you need to process for the assignment.\\n\\nSample data: http://py4e-data.dr-chuck.net/comments_42.json (Sum=2553)\\nActual data: http://py4e-data.dr-chuck.net/comments_2201001.json (Sum ends with 33)\\nYou do not need to save these files to your folder since your program will read the data directly from the URL. Note: Each student will have a distinct data url for the assignment - so only use your own data url for analysis.\\nData Format\\nThe data consists of a number of names and comment counts in JSON as follows:\\n\\n{\\n  comments: [\\n    {\\n      name: \"Matthias\"\\n      count: 97\\n    },\\n    {\\n      name: \"Geomer\"\\n      count: 97\\n    }\\n    ...\\n  ]\\n}\\nThe closest sample code that shows how to parse JSON and extract a list is json2.py. You might also want to look at xml3.py to see how to prompt for a URL and retrieve data from a URL.\\n\\nSample Execution\\n\\n$ python3 solution.py\\nEnter location: http://py4e-data.dr-chuck.net/comments_42.json\\nRetrieving http://py4e-data.dr-chuck.net/comments_42.json\\nRetrieved 2733 characters\\nCount: 50\\nSum: 2...\\nTurning in the Assignment\\n\\nEnter the sum from the actual data and your Python code below:\\n'"
      ]
     },
     "execution_count": 1,
     "metadata": {},
     "output_type": "execute_result"
    }
   ],
   "source": [
    "'''\n",
    "Extracting Data from JSON\n",
    "\n",
    "In this assignment you will write a Python program somewhat similar to http://www.py4e.com/code3/json2.py. The program will prompt for a URL, read the JSON data from that URL using urllib and then parse and extract the comment counts from the JSON data, compute the sum of the numbers in the file and enter the sum below:\n",
    "\n",
    "We provide two files for this assignment. One is a sample file where we give you the sum for your testing and the other is the actual data you need to process for the assignment.\n",
    "\n",
    "Sample data: http://py4e-data.dr-chuck.net/comments_42.json (Sum=2553)\n",
    "Actual data: http://py4e-data.dr-chuck.net/comments_2201001.json (Sum ends with 33)\n",
    "You do not need to save these files to your folder since your program will read the data directly from the URL. Note: Each student will have a distinct data url for the assignment - so only use your own data url for analysis.\n",
    "Data Format\n",
    "The data consists of a number of names and comment counts in JSON as follows:\n",
    "\n",
    "{\n",
    "  comments: [\n",
    "    {\n",
    "      name: \"Matthias\"\n",
    "      count: 97\n",
    "    },\n",
    "    {\n",
    "      name: \"Geomer\"\n",
    "      count: 97\n",
    "    }\n",
    "    ...\n",
    "  ]\n",
    "}\n",
    "The closest sample code that shows how to parse JSON and extract a list is json2.py. You might also want to look at xml3.py to see how to prompt for a URL and retrieve data from a URL.\n",
    "\n",
    "Sample Execution\n",
    "\n",
    "$ python3 solution.py\n",
    "Enter location: http://py4e-data.dr-chuck.net/comments_42.json\n",
    "Retrieving http://py4e-data.dr-chuck.net/comments_42.json\n",
    "Retrieved 2733 characters\n",
    "Count: 50\n",
    "Sum: 2...\n",
    "Turning in the Assignment\n",
    "\n",
    "Enter the sum from the actual data and your Python code below:\n",
    "'''"
   ]
  },
  {
   "cell_type": "code",
   "execution_count": 2,
   "id": "4fe42609-8297-4644-befb-55198d1fdd8e",
   "metadata": {},
   "outputs": [
    {
     "name": "stdin",
     "output_type": "stream",
     "text": [
      "Enter location:  http://py4e-data.dr-chuck.net/comments_2201001.json\n"
     ]
    },
    {
     "name": "stdout",
     "output_type": "stream",
     "text": [
      "Retrieving http://py4e-data.dr-chuck.net/comments_2201001.json\n",
      "Retrieved 2734 characters\n",
      "Count: 50\n",
      "Sum: 2533\n"
     ]
    }
   ],
   "source": [
    "import urllib.request\n",
    "import json\n",
    "\n",
    "# Prompt for URL\n",
    "url = input(\"Enter location: \")\n",
    "print(\"Retrieving\", url)\n",
    "\n",
    "# Read the JSON data from the URL\n",
    "response = urllib.request.urlopen(url)\n",
    "data = response.read()\n",
    "print(\"Retrieved\", len(data), \"characters\")\n",
    "\n",
    "# Parse the JSON\n",
    "info = json.loads(data)\n",
    "\n",
    "# Extract the list of comments\n",
    "comments = info[\"comments\"]\n",
    "\n",
    "# Count how many comments and compute the sum of their 'count' values\n",
    "count = len(comments)\n",
    "total = sum(item['count'] for item in comments)\n",
    "\n",
    "print(\"Count:\", count)\n",
    "print(\"Sum:\", total)\n"
   ]
  },
  {
   "cell_type": "code",
   "execution_count": null,
   "id": "1420e8e8-b6bf-4d00-84f4-a95b32482063",
   "metadata": {},
   "outputs": [],
   "source": []
  }
 ],
 "metadata": {
  "kernelspec": {
   "display_name": "Python 3 (ipykernel)",
   "language": "python",
   "name": "python3"
  },
  "language_info": {
   "codemirror_mode": {
    "name": "ipython",
    "version": 3
   },
   "file_extension": ".py",
   "mimetype": "text/x-python",
   "name": "python",
   "nbconvert_exporter": "python",
   "pygments_lexer": "ipython3",
   "version": "3.11.4"
  }
 },
 "nbformat": 4,
 "nbformat_minor": 5
}
