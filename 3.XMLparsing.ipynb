{
 "cells": [
  {
   "cell_type": "code",
   "execution_count": 1,
   "id": "c25bf86d-3d83-46f4-8191-8a01544a3070",
   "metadata": {},
   "outputs": [
    {
     "data": {
      "text/plain": [
       "\"\\nExtracting Data from XML\\n\\nIn this assignment you will write a Python program somewhat similar to http://www.py4e.com/code3/xml3.py. The program will prompt for a URL, read the XML data from that URL using urllib and then parse and extract the comment counts from the XML data, compute the sum of the numbers in the file.\\n\\nWe provide two files for this assignment. One is a sample file where we give you the sum for your testing and the other is the actual data you need to process for the assignment.\\n\\nSample data: http://py4e-data.dr-chuck.net/comments_42.xml (Sum=2553)\\nActual data: http://py4e-data.dr-chuck.net/comments_2201000.xml (Sum ends with 39)\\nYou do not need to save these files to your folder since your program will read the data directly from the URL. Note: Each student will have a distinct data url for the assignment - so only use your own data url for analysis.\\nData Format and Approach\\nThe data consists of a number of names and comment counts in XML as follows:\\n\\n<comment>\\n  <name>Matthias</name>\\n  <count>97</count>\\n</comment>\\nYou are to look through all the <comment> tags and find the <count> values sum the numbers. The closest sample code that shows how to parse XML is xml3.py.\\nTo make the code a little simpler, you can use an XPath selector string to look through the entire tree of XML for any tag named 'count' with the following line of code:\\n\\ncounts = tree.findall('.//count')\\nTake a look at the Python ElementTree documentation and look for the supported XPath syntax for details. You could also work from the top of the XML down to the comments node and then loop through the child nodes of the comments node.\\nSample Execution\\n\\n\\n$ python3 solution.py\\nEnter location: http://py4e-data.dr-chuck.net/comments_42.xml\\nRetrieving http://py4e-data.dr-chuck.net/comments_42.xml\\nRetrieved 4189 characters\\nCount: 50\\nSum: 2...\\nTurning in the Assignment\\n\\nEnter the sum from the actual data and your Python code below:\\n\""
      ]
     },
     "execution_count": 1,
     "metadata": {},
     "output_type": "execute_result"
    }
   ],
   "source": [
    "'''\n",
    "Extracting Data from XML\n",
    "\n",
    "In this assignment you will write a Python program somewhat similar to http://www.py4e.com/code3/xml3.py. The program will prompt for a URL, read the XML data from that URL using urllib and then parse and extract the comment counts from the XML data, compute the sum of the numbers in the file.\n",
    "\n",
    "We provide two files for this assignment. One is a sample file where we give you the sum for your testing and the other is the actual data you need to process for the assignment.\n",
    "\n",
    "Sample data: http://py4e-data.dr-chuck.net/comments_42.xml (Sum=2553)\n",
    "Actual data: http://py4e-data.dr-chuck.net/comments_2201000.xml (Sum ends with 39)\n",
    "You do not need to save these files to your folder since your program will read the data directly from the URL. Note: Each student will have a distinct data url for the assignment - so only use your own data url for analysis.\n",
    "Data Format and Approach\n",
    "The data consists of a number of names and comment counts in XML as follows:\n",
    "\n",
    "<comment>\n",
    "  <name>Matthias</name>\n",
    "  <count>97</count>\n",
    "</comment>\n",
    "You are to look through all the <comment> tags and find the <count> values sum the numbers. The closest sample code that shows how to parse XML is xml3.py.\n",
    "To make the code a little simpler, you can use an XPath selector string to look through the entire tree of XML for any tag named 'count' with the following line of code:\n",
    "\n",
    "counts = tree.findall('.//count')\n",
    "Take a look at the Python ElementTree documentation and look for the supported XPath syntax for details. You could also work from the top of the XML down to the comments node and then loop through the child nodes of the comments node.\n",
    "Sample Execution\n",
    "\n",
    "\n",
    "$ python3 solution.py\n",
    "Enter location: http://py4e-data.dr-chuck.net/comments_42.xml\n",
    "Retrieving http://py4e-data.dr-chuck.net/comments_42.xml\n",
    "Retrieved 4189 characters\n",
    "Count: 50\n",
    "Sum: 2...\n",
    "Turning in the Assignment\n",
    "\n",
    "Enter the sum from the actual data and your Python code below:\n",
    "'''"
   ]
  },
  {
   "cell_type": "code",
   "execution_count": 2,
   "id": "911ac2de-0f2e-41bb-b301-5f642a92f5f7",
   "metadata": {},
   "outputs": [
    {
     "name": "stdin",
     "output_type": "stream",
     "text": [
      "Enter location:  http://py4e-data.dr-chuck.net/comments_2201000.xml\n"
     ]
    },
    {
     "name": "stdout",
     "output_type": "stream",
     "text": [
      "Retrieving http://py4e-data.dr-chuck.net/comments_2201000.xml\n",
      "Retrieved 4228 characters\n",
      "Count: 50\n",
      "Sum: 2339\n"
     ]
    }
   ],
   "source": [
    "import urllib.request\n",
    "import xml.etree.ElementTree as ET\n",
    "\n",
    "# Prompt for URL\n",
    "url = input(\"Enter location: \")\n",
    "print(f\"Retrieving {url}\")\n",
    "\n",
    "# Read the XML data from the URL\n",
    "response = urllib.request.urlopen(url)\n",
    "data = response.read()\n",
    "print(f\"Retrieved {len(data)} characters\")\n",
    "\n",
    "# Parse the XML\n",
    "tree = ET.fromstring(data)\n",
    "\n",
    "# Find all <count> tags using XPath\n",
    "counts = tree.findall('.//count')\n",
    "\n",
    "# Calculate the sum of all count values\n",
    "total = sum(int(count.text) for count in counts)\n",
    "print(\"Count:\", len(counts))\n",
    "print(\"Sum:\", total)\n"
   ]
  },
  {
   "cell_type": "code",
   "execution_count": null,
   "id": "4fe42609-8297-4644-befb-55198d1fdd8e",
   "metadata": {},
   "outputs": [],
   "source": []
  }
 ],
 "metadata": {
  "kernelspec": {
   "display_name": "Python 3 (ipykernel)",
   "language": "python",
   "name": "python3"
  },
  "language_info": {
   "codemirror_mode": {
    "name": "ipython",
    "version": 3
   },
   "file_extension": ".py",
   "mimetype": "text/x-python",
   "name": "python",
   "nbconvert_exporter": "python",
   "pygments_lexer": "ipython3",
   "version": "3.11.4"
  }
 },
 "nbformat": 4,
 "nbformat_minor": 5
}
