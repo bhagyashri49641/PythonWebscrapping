{
 "cells": [
  {
   "cell_type": "code",
   "execution_count": 17,
   "id": "c25bf86d-3d83-46f4-8191-8a01544a3070",
   "metadata": {},
   "outputs": [
    {
     "data": {
      "text/plain": [
       "'\\nFollowing Links in Python\\n\\nIn this assignment you will write a Python program that expands on http://www.py4e.com/code3/urllinks.py. The program will use urllib to read the HTML from the data files below, extract the href= vaues from the anchor tags, scan for a tag that is in a particular position relative to the first name in the list, follow that link and repeat the process a number of times and report the last name you find.\\n\\nWe provide two files for this assignment. One is a sample file where we give you the name for your testing and the other is the actual data you need to process for the assignment\\n\\nSample problem: Start at http://py4e-data.dr-chuck.net/known_by_Fikret.html\\nFind the link at position 3 (the first name is 1). Follow that link. Repeat this process 4 times. The answer is the last name that you retrieve.\\nSequence of names: Fikret Montgomery Mhairade Butchi Anayah\\nLast name in sequence: Anayah\\nActual problem: Start at: http://py4e-data.dr-chuck.net/known_by_Coral.html\\nFind the link at position 18 (the first name is 1). Follow that link. Repeat this process 7 times. The answer is the last name that you retrieve.\\nHint: The first character of the name of the last page that you will load is: H\\nStrategy\\nThe web pages tweak the height between the links and hide the page after a few seconds to make it difficult for you to do the assignment without writing a Python program. But frankly with a little effort and patience you can overcome these attempts to make it a little harder to complete the assignment without writing a Python program. But that is not the point. The point is to write a clever Python program to solve the program.\\n\\nSample execution\\n\\nHere is a sample execution of a solution:\\n\\n$ python3 solution.py\\nEnter URL: http://py4e-data.dr-chuck.net/known_by_Fikret.html\\nEnter count: 4\\nEnter position: 3\\nRetrieving: http://py4e-data.dr-chuck.net/known_by_Fikret.html\\nRetrieving: http://py4e-data.dr-chuck.net/known_by_Montgomery.html\\nRetrieving: http://py4e-data.dr-chuck.net/known_by_Mhairade.html\\nRetrieving: http://py4e-data.dr-chuck.net/known_by_Butchi.html\\nRetrieving: http://py4e-data.dr-chuck.net/known_by_Anayah.html\\nThe answer to the assignment for this execution is \"Anayah\".\\nTurning in the Assignment\\n\\nEnter the last name retrieved and your Python code below:\\n'"
      ]
     },
     "execution_count": 17,
     "metadata": {},
     "output_type": "execute_result"
    }
   ],
   "source": [
    "'''\n",
    "Following Links in Python\n",
    "\n",
    "In this assignment you will write a Python program that expands on http://www.py4e.com/code3/urllinks.py. The program will use urllib to read the HTML from the data files below, extract the href= vaues from the anchor tags, scan for a tag that is in a particular position relative to the first name in the list, follow that link and repeat the process a number of times and report the last name you find.\n",
    "\n",
    "We provide two files for this assignment. One is a sample file where we give you the name for your testing and the other is the actual data you need to process for the assignment\n",
    "\n",
    "Sample problem: Start at http://py4e-data.dr-chuck.net/known_by_Fikret.html\n",
    "Find the link at position 3 (the first name is 1). Follow that link. Repeat this process 4 times. The answer is the last name that you retrieve.\n",
    "Sequence of names: Fikret Montgomery Mhairade Butchi Anayah\n",
    "Last name in sequence: Anayah\n",
    "Actual problem: Start at: http://py4e-data.dr-chuck.net/known_by_Coral.html\n",
    "Find the link at position 18 (the first name is 1). Follow that link. Repeat this process 7 times. The answer is the last name that you retrieve.\n",
    "Hint: The first character of the name of the last page that you will load is: H\n",
    "Strategy\n",
    "The web pages tweak the height between the links and hide the page after a few seconds to make it difficult for you to do the assignment without writing a Python program. But frankly with a little effort and patience you can overcome these attempts to make it a little harder to complete the assignment without writing a Python program. But that is not the point. The point is to write a clever Python program to solve the program.\n",
    "\n",
    "Sample execution\n",
    "\n",
    "Here is a sample execution of a solution:\n",
    "\n",
    "$ python3 solution.py\n",
    "Enter URL: http://py4e-data.dr-chuck.net/known_by_Fikret.html\n",
    "Enter count: 4\n",
    "Enter position: 3\n",
    "Retrieving: http://py4e-data.dr-chuck.net/known_by_Fikret.html\n",
    "Retrieving: http://py4e-data.dr-chuck.net/known_by_Montgomery.html\n",
    "Retrieving: http://py4e-data.dr-chuck.net/known_by_Mhairade.html\n",
    "Retrieving: http://py4e-data.dr-chuck.net/known_by_Butchi.html\n",
    "Retrieving: http://py4e-data.dr-chuck.net/known_by_Anayah.html\n",
    "The answer to the assignment for this execution is \"Anayah\".\n",
    "Turning in the Assignment\n",
    "\n",
    "Enter the last name retrieved and your Python code below:\n",
    "'''"
   ]
  },
  {
   "cell_type": "code",
   "execution_count": 18,
   "id": "911ac2de-0f2e-41bb-b301-5f642a92f5f7",
   "metadata": {},
   "outputs": [],
   "source": [
    "import urllib.request\n",
    "import ssl\n",
    "from bs4 import BeautifulSoup\n"
   ]
  },
  {
   "cell_type": "code",
   "execution_count": 19,
   "id": "423a6d5e-fff3-4f2b-af43-56646fd9eae9",
   "metadata": {},
   "outputs": [],
   "source": [
    "# Ignore SSL certificate errors\n",
    "ctx = ssl.create_default_context()\n",
    "ctx.check_hostname = False\n",
    "ctx.verify_mode = ssl.CERT_NONE"
   ]
  },
  {
   "cell_type": "code",
   "execution_count": 25,
   "id": "9eabf0e6-d895-44c6-aa18-05939808d276",
   "metadata": {},
   "outputs": [
    {
     "name": "stdin",
     "output_type": "stream",
     "text": [
      "Enter URL:  http://py4e-data.dr-chuck.net/known_by_Coral.html\n",
      "Enter count:  7\n",
      "Enter position:  18\n"
     ]
    },
    {
     "name": "stdout",
     "output_type": "stream",
     "text": [
      "Retrieving: http://py4e-data.dr-chuck.net/known_by_Coral.html\n",
      "Retrieving: http://py4e-data.dr-chuck.net/known_by_Christopher.html\n",
      "Retrieving: http://py4e-data.dr-chuck.net/known_by_Finnean.html\n",
      "Retrieving: http://py4e-data.dr-chuck.net/known_by_Esmeralda.html\n",
      "Retrieving: http://py4e-data.dr-chuck.net/known_by_Ishaal.html\n",
      "Retrieving: http://py4e-data.dr-chuck.net/known_by_Abhia.html\n",
      "Retrieving: http://py4e-data.dr-chuck.net/known_by_Efe.html\n",
      "Retrieving: http://py4e-data.dr-chuck.net/known_by_Herbert.html\n",
      "The answer to the assignment for this execution is: Herbert\n"
     ]
    }
   ],
   "source": [
    "# User input\n",
    "url = input('Enter URL: ')\n",
    "count = int(input('Enter count: '))\n",
    "position = int(input('Enter position: '))  # 1-based index\n",
    "\n",
    "print(\"Retrieving:\", url)\n",
    "\n",
    "# Repeat the process count times\n",
    "for i in range(count):\n",
    "    html = urllib.request.urlopen(url, context=ctx).read()\n",
    "    soup = BeautifulSoup(html, 'html.parser')\n",
    "\n",
    "    # Find all anchor tags\n",
    "    tags = soup('a')\n",
    "    #print(tags)\n",
    "\n",
    "    # Get the tag at the given position (1-based index)\n",
    "    url = tags[position - 1].get('href', None)\n",
    "    print(\"Retrieving:\", url)\n",
    "\n",
    "# Print the final name in the last URL\n",
    "# The last retrieved URL has a pattern like: known_by_<Name>.html\n",
    "name = url.split('_')[-1].split('.')[0]\n",
    "print(\"The answer to the assignment for this execution is:\", name)"
   ]
  },
  {
   "cell_type": "code",
   "execution_count": null,
   "id": "4fe42609-8297-4644-befb-55198d1fdd8e",
   "metadata": {},
   "outputs": [],
   "source": []
  }
 ],
 "metadata": {
  "kernelspec": {
   "display_name": "Python 3 (ipykernel)",
   "language": "python",
   "name": "python3"
  },
  "language_info": {
   "codemirror_mode": {
    "name": "ipython",
    "version": 3
   },
   "file_extension": ".py",
   "mimetype": "text/x-python",
   "name": "python",
   "nbconvert_exporter": "python",
   "pygments_lexer": "ipython3",
   "version": "3.11.4"
  }
 },
 "nbformat": 4,
 "nbformat_minor": 5
}
