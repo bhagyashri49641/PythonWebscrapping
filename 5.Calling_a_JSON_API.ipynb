{
 "cells": [
  {
   "cell_type": "code",
   "execution_count": 3,
   "id": "c25bf86d-3d83-46f4-8191-8a01544a3070",
   "metadata": {},
   "outputs": [
    {
     "data": {
      "text/plain": [
       "'\\nCalling a JSON API\\n\\nIn this assignment you will write a Python program somewhat similar to http://www.py4e.com/code3/opengeo.py. The program will prompt for a location, contact a web service and retrieve JSON for the web service and parse that data, and retrieve the first plus_code from the JSON. An Open Location Code is a textual identifier that is another form of address based on the location of the address.\\nAPI End Points\\n\\nTo complete this assignment, you should use this API endpoint that has a static subset of the Open Street Map Data.\\n\\nhttp://py4e-data.dr-chuck.net/opengeo?\\nThis API also has no rate limit so you can test as often as you like. If you visit the URL with no parameters, you get \"No address...\" response.\\nTo call the API, you need to provide the address that you are requesting as the q= parameter that is properly URL encoded using the urllib.parse.urlencode() function as shown in http://www.py4e.com/code3/opengeo.py\\n\\n\\nTest Data / Sample Execution\\n\\nYou can test to see if your program is working with a location of \"South Federal University\" which will have a plus_code of \"6FV8QPRJ+VQ\".\\n\\n$ python solution.py\\nEnter location: South Federal University\\nRetrieving http://...\\nRetrieved 1290 characters\\nPlus code 6FV8QPRJ+VQ\\nTurn In\\n\\nPlease run your program to find the plus_code for this location:\\n\\nUniversity of Malaga\\nMake sure to enter the name and case exactly as above and enter the plus_code and your Python code below. Hint: The first five characters of the plus_code are \"8C8QP ...\"\\nMake sure to retreive the data from the URL specified above and not the normal Google API. Your program should work with the Google API - but the plus_code may not match for this assignment.\\n'"
      ]
     },
     "execution_count": 3,
     "metadata": {},
     "output_type": "execute_result"
    }
   ],
   "source": [
    "'''\n",
    "Calling a JSON API\n",
    "\n",
    "In this assignment you will write a Python program somewhat similar to http://www.py4e.com/code3/opengeo.py. The program will prompt for a location, contact a web service and retrieve JSON for the web service and parse that data, and retrieve the first plus_code from the JSON. An Open Location Code is a textual identifier that is another form of address based on the location of the address.\n",
    "API End Points\n",
    "\n",
    "To complete this assignment, you should use this API endpoint that has a static subset of the Open Street Map Data.\n",
    "\n",
    "http://py4e-data.dr-chuck.net/opengeo?\n",
    "This API also has no rate limit so you can test as often as you like. If you visit the URL with no parameters, you get \"No address...\" response.\n",
    "To call the API, you need to provide the address that you are requesting as the q= parameter that is properly URL encoded using the urllib.parse.urlencode() function as shown in http://www.py4e.com/code3/opengeo.py\n",
    "\n",
    "\n",
    "Test Data / Sample Execution\n",
    "\n",
    "You can test to see if your program is working with a location of \"South Federal University\" which will have a plus_code of \"6FV8QPRJ+VQ\".\n",
    "\n",
    "$ python solution.py\n",
    "Enter location: South Federal University\n",
    "Retrieving http://...\n",
    "Retrieved 1290 characters\n",
    "Plus code 6FV8QPRJ+VQ\n",
    "Turn In\n",
    "\n",
    "Please run your program to find the plus_code for this location:\n",
    "\n",
    "University of Malaga\n",
    "Make sure to enter the name and case exactly as above and enter the plus_code and your Python code below. Hint: The first five characters of the plus_code are \"8C8QP ...\"\n",
    "Make sure to retreive the data from the URL specified above and not the normal Google API. Your program should work with the Google API - but the plus_code may not match for this assignment.\n",
    "'''"
   ]
  },
  {
   "cell_type": "code",
   "execution_count": 7,
   "id": "1420e8e8-b6bf-4d00-84f4-a95b32482063",
   "metadata": {},
   "outputs": [
    {
     "name": "stdin",
     "output_type": "stream",
     "text": [
      "Enter location:  University of Malaga\n"
     ]
    },
    {
     "name": "stdout",
     "output_type": "stream",
     "text": [
      "Retrieving http://py4e-data.dr-chuck.net/opengeo?q=University+of+Malaga\n",
      "Retrieved 1589 characters\n",
      "Plus code: 8C8QPG8H+78\n"
     ]
    }
   ],
   "source": [
    "import urllib.request\n",
    "import urllib.parse\n",
    "import json\n",
    "\n",
    "# Base API URL\n",
    "serviceurl = \"http://py4e-data.dr-chuck.net/opengeo?\"\n",
    "\n",
    "# Get location from user\n",
    "address = input(\"Enter location: \")\n",
    "\n",
    "# Encode parameters\n",
    "params = {'q': address}\n",
    "url = serviceurl + urllib.parse.urlencode(params)\n",
    "\n",
    "print(\"Retrieving\", url)\n",
    "uh = urllib.request.urlopen(url)\n",
    "data = uh.read()\n",
    "print(\"Retrieved\", len(data), \"characters\")\n",
    "\n",
    "# Parse JSON\n",
    "info = json.loads(data)\n",
    "\n",
    "# Pretty print the JSON response (optional for debugging)\n",
    "# print(json.dumps(info, indent=2))\n",
    "\n",
    "# Try to extract plus_code\n",
    "try:\n",
    "    plus_code = info[\"features\"][0][\"properties\"][\"plus_code\"]\n",
    "    print(\"Plus code:\", plus_code)\n",
    "except (KeyError, IndexError):\n",
    "    print(\"Plus code not found in the response.\")\n"
   ]
  },
  {
   "cell_type": "code",
   "execution_count": null,
   "id": "d28d5457-ae93-453b-a2d2-4cfb6e90d8e4",
   "metadata": {},
   "outputs": [],
   "source": []
  }
 ],
 "metadata": {
  "kernelspec": {
   "display_name": "Python 3 (ipykernel)",
   "language": "python",
   "name": "python3"
  },
  "language_info": {
   "codemirror_mode": {
    "name": "ipython",
    "version": 3
   },
   "file_extension": ".py",
   "mimetype": "text/x-python",
   "name": "python",
   "nbconvert_exporter": "python",
   "pygments_lexer": "ipython3",
   "version": "3.11.4"
  }
 },
 "nbformat": 4,
 "nbformat_minor": 5
}
