{
 "cells": [
  {
   "cell_type": "code",
   "execution_count": 5,
   "id": "170a9b68-b8f8-4a5d-8e94-e7c8aa1c78f4",
   "metadata": {},
   "outputs": [],
   "source": [
    "import urllib.request, urllib.parse, urllib.error\n",
    "from bs4 import BeautifulSoup"
   ]
  },
  {
   "cell_type": "code",
   "execution_count": 7,
   "id": "1f4ea293-998a-4afa-851c-5d162c2f220c",
   "metadata": {},
   "outputs": [
    {
     "name": "stdin",
     "output_type": "stream",
     "text": [
      "Enter - http://py4e-data.dr-chuck.net/comments_2200998.html\n"
     ]
    }
   ],
   "source": [
    "url = input('Enter -')\n",
    "html = urllib.request.urlopen(url).read()\n",
    "soup = BeautifulSoup(html,'html.parser')\n",
    "tags = soup('span')\n",
    "total = 0\n",
    "count = 0\n",
    "for tag in tags:\n",
    "    total = total + int(tag.text)\n",
    "    count = count + 1\n",
    "    \n"
   ]
  },
  {
   "cell_type": "code",
   "execution_count": 8,
   "id": "c4df6ce0-f5e0-45fa-abb0-90203b7e62c4",
   "metadata": {},
   "outputs": [
    {
     "name": "stdout",
     "output_type": "stream",
     "text": [
      "Count 50\n",
      "Sum 2517\n"
     ]
    }
   ],
   "source": [
    "print('Count', count)\n",
    "print('Sum', total)"
   ]
  },
  {
   "cell_type": "code",
   "execution_count": null,
   "id": "83d47099-4e5b-4325-bd1a-f44a3961e612",
   "metadata": {},
   "outputs": [],
   "source": []
  }
 ],
 "metadata": {
  "kernelspec": {
   "display_name": "Python 3 (ipykernel)",
   "language": "python",
   "name": "python3"
  },
  "language_info": {
   "codemirror_mode": {
    "name": "ipython",
    "version": 3
   },
   "file_extension": ".py",
   "mimetype": "text/x-python",
   "name": "python",
   "nbconvert_exporter": "python",
   "pygments_lexer": "ipython3",
   "version": "3.11.4"
  }
 },
 "nbformat": 4,
 "nbformat_minor": 5
}
